{
 "cells": [
  {
   "cell_type": "code",
   "execution_count": 1,
   "id": "48b30732-b9c5-472b-bef4-7feacdfcc3b3",
   "metadata": {
    "tags": []
   },
   "outputs": [],
   "source": [
    "import cmlapi\n"
   ]
  },
  {
   "cell_type": "code",
   "execution_count": 6,
   "id": "f46a5d8a-463d-49df-bb08-7039032ce7e2",
   "metadata": {
    "tags": []
   },
   "outputs": [],
   "source": [
    "api_url= \"https://ml-e5c24ea5-af2.ps-sandb.a465-9q4k.cloudera.site\"\n",
    "api_key= \"41923416cfb65af39de6ef48d0330d3342669481bb82908088902835a29c2144.5fcd54a2f26f691baed0ac56a41441544ef2be9b0327f2fae58505a5c23cafea\"\n",
    "\n"
   ]
  },
  {
   "cell_type": "code",
   "execution_count": 8,
   "id": "1cc8c589-52ff-45a2-a84d-ad924bb5c622",
   "metadata": {
    "tags": []
   },
   "outputs": [
    {
     "data": {
      "text/plain": [
       "{'next_page_token': '',\n",
       " 'projects': [{'created_at': datetime.datetime(2023, 9, 25, 22, 31, 4, 678932, tzinfo=tzlocal()),\n",
       "               'creation_status': 'success',\n",
       "               'creator': {'email': 'jsifontes@cloudera.com',\n",
       "                           'name': 'Juan Sifontes',\n",
       "                           'username': 'jsifontes'},\n",
       "               'default_engine_type': 'ml_runtime',\n",
       "               'description': '',\n",
       "               'environment': '{\"CDSW_APP_POLLING_ENDPOINT\":\"/\",\"PROJECT_OWNER\":\"jsifontes\"}',\n",
       "               'ephemeral_storage_limit': 10,\n",
       "               'ephemeral_storage_request': 0,\n",
       "               'id': 'dejb-02ls-7t21-8psj',\n",
       "               'name': 'edge2ai-jsifontes',\n",
       "               'owner': {'email': 'jsifontes@cloudera.com',\n",
       "                         'name': 'Juan Sifontes',\n",
       "                         'username': 'jsifontes'},\n",
       "               'permissions': {'admin': True,\n",
       "                               'business_user': True,\n",
       "                               'inherit': False,\n",
       "                               'operator': True,\n",
       "                               'read': True,\n",
       "                               'write': True},\n",
       "               'shared_memory_limit': 0,\n",
       "               'updated_at': datetime.datetime(2023, 9, 25, 22, 37, 43, 551650, tzinfo=tzlocal()),\n",
       "               'visibility': 'private'}]}"
      ]
     },
     "execution_count": 8,
     "metadata": {},
     "output_type": "execute_result"
    }
   ],
   "source": [
    "# No arguments are required when the default_client method is used inside a session.\n",
    "api_client=cmlapi.default_client(url=api_url,cml_api_key=api_key)\n"
   ]
  },
  {
   "cell_type": "code",
   "execution_count": 12,
   "id": "599fdcc1-d5b7-40f5-ad01-e741fcb5a37b",
   "metadata": {
    "tags": []
   },
   "outputs": [
    {
     "data": {
      "text/plain": [
       "{'next_page_token': '',\n",
       " 'projects': [{'created_at': datetime.datetime(2023, 9, 25, 22, 31, 4, 678932, tzinfo=tzlocal()),\n",
       "               'creation_status': 'success',\n",
       "               'creator': {'email': 'jsifontes@cloudera.com',\n",
       "                           'name': 'Juan Sifontes',\n",
       "                           'username': 'jsifontes'},\n",
       "               'default_engine_type': 'ml_runtime',\n",
       "               'description': '',\n",
       "               'environment': '{\"CDSW_APP_POLLING_ENDPOINT\":\"/\",\"PROJECT_OWNER\":\"jsifontes\"}',\n",
       "               'ephemeral_storage_limit': 10,\n",
       "               'ephemeral_storage_request': 0,\n",
       "               'id': 'dejb-02ls-7t21-8psj',\n",
       "               'name': 'edge2ai-jsifontes',\n",
       "               'owner': {'email': 'jsifontes@cloudera.com',\n",
       "                         'name': 'Juan Sifontes',\n",
       "                         'username': 'jsifontes'},\n",
       "               'permissions': {'admin': True,\n",
       "                               'business_user': True,\n",
       "                               'inherit': False,\n",
       "                               'operator': True,\n",
       "                               'read': True,\n",
       "                               'write': True},\n",
       "               'shared_memory_limit': 0,\n",
       "               'updated_at': datetime.datetime(2023, 9, 25, 22, 37, 43, 551650, tzinfo=tzlocal()),\n",
       "               'visibility': 'private'}]}"
      ]
     },
     "execution_count": 12,
     "metadata": {},
     "output_type": "execute_result"
    }
   ],
   "source": [
    "api_client.list_projects()"
   ]
  },
  {
   "cell_type": "code",
   "execution_count": null,
   "id": "9ff7bd4f-04b4-47e7-9625-048f5d4e23ee",
   "metadata": {},
   "outputs": [],
   "source": [
    "api_client.list_projects()"
   ]
  },
  {
   "cell_type": "code",
   "execution_count": null,
   "id": "9dcfb402-90e1-49c4-b2f6-b3b5f7672cea",
   "metadata": {},
   "outputs": [],
   "source": []
  }
 ],
 "metadata": {
  "kernelspec": {
   "display_name": "Python 3 (ipykernel)",
   "language": "python",
   "name": "python3"
  },
  "language_info": {
   "codemirror_mode": {
    "name": "ipython",
    "version": 3
   },
   "file_extension": ".py",
   "mimetype": "text/x-python",
   "name": "python",
   "nbconvert_exporter": "python",
   "pygments_lexer": "ipython3",
   "version": "3.9.16"
  }
 },
 "nbformat": 4,
 "nbformat_minor": 5
}
